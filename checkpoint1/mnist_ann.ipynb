{
 "cells": [
  {
   "cell_type": "code",
   "execution_count": 1,
   "metadata": {},
   "outputs": [
    {
     "name": "stderr",
     "output_type": "stream",
     "text": [
      "2025-03-26 00:03:00.737227: I tensorflow/core/util/port.cc:153] oneDNN custom operations are on. You may see slightly different numerical results due to floating-point round-off errors from different computation orders. To turn them off, set the environment variable `TF_ENABLE_ONEDNN_OPTS=0`.\n",
      "2025-03-26 00:03:00.749913: E external/local_xla/xla/stream_executor/cuda/cuda_fft.cc:467] Unable to register cuFFT factory: Attempting to register factory for plugin cuFFT when one has already been registered\n",
      "WARNING: All log messages before absl::InitializeLog() is called are written to STDERR\n",
      "E0000 00:00:1742927580.763106   39303 cuda_dnn.cc:8579] Unable to register cuDNN factory: Attempting to register factory for plugin cuDNN when one has already been registered\n",
      "E0000 00:00:1742927580.766856   39303 cuda_blas.cc:1407] Unable to register cuBLAS factory: Attempting to register factory for plugin cuBLAS when one has already been registered\n",
      "W0000 00:00:1742927580.777236   39303 computation_placer.cc:177] computation placer already registered. Please check linkage and avoid linking the same target more than once.\n",
      "W0000 00:00:1742927580.777255   39303 computation_placer.cc:177] computation placer already registered. Please check linkage and avoid linking the same target more than once.\n",
      "W0000 00:00:1742927580.777257   39303 computation_placer.cc:177] computation placer already registered. Please check linkage and avoid linking the same target more than once.\n",
      "W0000 00:00:1742927580.777258   39303 computation_placer.cc:177] computation placer already registered. Please check linkage and avoid linking the same target more than once.\n",
      "2025-03-26 00:03:00.780792: I tensorflow/core/platform/cpu_feature_guard.cc:210] This TensorFlow binary is optimized to use available CPU instructions in performance-critical operations.\n",
      "To enable the following instructions: AVX2 AVX_VNNI FMA, in other operations, rebuild TensorFlow with the appropriate compiler flags.\n",
      "/home/siddheshsp022/miniconda3/envs/perception/lib/python3.10/site-packages/keras/src/layers/reshaping/flatten.py:37: UserWarning: Do not pass an `input_shape`/`input_dim` argument to a layer. When using Sequential models, prefer using an `Input(shape)` object as the first layer in the model instead.\n",
      "  super().__init__(**kwargs)\n",
      "I0000 00:00:1742927584.120216   39303 gpu_device.cc:2019] Created device /job:localhost/replica:0/task:0/device:GPU:0 with 4143 MB memory:  -> device: 0, name: NVIDIA GeForce RTX 4050 Laptop GPU, pci bus id: 0000:01:00.0, compute capability: 8.9\n"
     ]
    },
    {
     "name": "stdout",
     "output_type": "stream",
     "text": [
      "Epoch 1/20\n"
     ]
    },
    {
     "name": "stderr",
     "output_type": "stream",
     "text": [
      "WARNING: All log messages before absl::InitializeLog() is called are written to STDERR\n",
      "I0000 00:00:1742927585.548464   39393 service.cc:152] XLA service 0x75cdf800aa80 initialized for platform CUDA (this does not guarantee that XLA will be used). Devices:\n",
      "I0000 00:00:1742927585.548482   39393 service.cc:160]   StreamExecutor device (0): NVIDIA GeForce RTX 4050 Laptop GPU, Compute Capability 8.9\n",
      "2025-03-26 00:03:05.566885: I tensorflow/compiler/mlir/tensorflow/utils/dump_mlir_util.cc:269] disabling MLIR crash reproducer, set env var `MLIR_CRASH_REPRODUCER_DIRECTORY` to enable.\n",
      "I0000 00:00:1742927585.676686   39393 cuda_dnn.cc:529] Loaded cuDNN version 90300\n",
      "I0000 00:00:1742927587.226803   39393 device_compiler.h:188] Compiled cluster using XLA!  This line is logged at most once for the lifetime of the process.\n"
     ]
    },
    {
     "name": "stdout",
     "output_type": "stream",
     "text": [
      "600/600 - 3s - 5ms/step - accuracy: 0.9274 - loss: 0.2491\n",
      "Epoch 2/20\n",
      "600/600 - 1s - 1ms/step - accuracy: 0.9697 - loss: 0.0997\n",
      "Epoch 3/20\n",
      "600/600 - 1s - 2ms/step - accuracy: 0.9791 - loss: 0.0673\n",
      "Epoch 4/20\n",
      "600/600 - 1s - 1ms/step - accuracy: 0.9837 - loss: 0.0505\n",
      "Epoch 5/20\n",
      "600/600 - 1s - 1ms/step - accuracy: 0.9863 - loss: 0.0418\n",
      "Epoch 6/20\n",
      "600/600 - 1s - 1ms/step - accuracy: 0.9904 - loss: 0.0315\n",
      "Epoch 7/20\n",
      "600/600 - 1s - 1ms/step - accuracy: 0.9913 - loss: 0.0273\n",
      "Epoch 8/20\n",
      "600/600 - 1s - 2ms/step - accuracy: 0.9921 - loss: 0.0242\n",
      "Epoch 9/20\n",
      "600/600 - 1s - 2ms/step - accuracy: 0.9931 - loss: 0.0204\n",
      "Epoch 10/20\n",
      "600/600 - 1s - 2ms/step - accuracy: 0.9944 - loss: 0.0170\n",
      "Epoch 11/20\n",
      "600/600 - 1s - 1ms/step - accuracy: 0.9949 - loss: 0.0156\n",
      "Epoch 12/20\n",
      "600/600 - 1s - 1ms/step - accuracy: 0.9941 - loss: 0.0170\n",
      "Epoch 13/20\n",
      "600/600 - 1s - 1ms/step - accuracy: 0.9955 - loss: 0.0133\n",
      "Epoch 14/20\n",
      "600/600 - 1s - 1ms/step - accuracy: 0.9967 - loss: 0.0103\n",
      "Epoch 15/20\n",
      "600/600 - 1s - 2ms/step - accuracy: 0.9966 - loss: 0.0114\n",
      "Epoch 16/20\n",
      "600/600 - 1s - 1ms/step - accuracy: 0.9955 - loss: 0.0123\n",
      "Epoch 17/20\n",
      "600/600 - 1s - 1ms/step - accuracy: 0.9965 - loss: 0.0101\n",
      "Epoch 18/20\n",
      "600/600 - 1s - 2ms/step - accuracy: 0.9967 - loss: 0.0101\n",
      "Epoch 19/20\n",
      "600/600 - 1s - 1ms/step - accuracy: 0.9961 - loss: 0.0116\n",
      "Epoch 20/20\n",
      "600/600 - 1s - 2ms/step - accuracy: 0.9974 - loss: 0.0074\n"
     ]
    }
   ],
   "source": [
    "from keras import Sequential\n",
    "from keras.layers import Flatten, Dense, BatchNormalization\n",
    "from keras.datasets.mnist import load_data\n",
    "import numpy as np\n",
    "import cv2\n",
    "\n",
    "(x_train, y_train), (x_test, y_test) = load_data()\n",
    "\n",
    "x_train, x_test = x_train/255.0, x_test/255.0\n",
    "\n",
    "\n",
    "model = Sequential([\n",
    "    Flatten(input_shape = (28, 28)),\n",
    "    Dense(128, activation='relu'),\n",
    "    BatchNormalization(axis=1),\n",
    "    Dense(64, activation='relu'),\n",
    "    Dense(10, activation='softmax')\n",
    "])\n",
    "\n",
    "model.compile(optimizer='adam',\n",
    "              loss='sparse_categorical_crossentropy',\n",
    "              metrics=['accuracy'])\n",
    "\n",
    "model.fit(x_train, y_train, epochs=20, verbose=2, shuffle=True, batch_size=100)\n",
    "\n",
    "# test_loss, test_acc = model.evaluate(x_test, y_test)\n",
    "\n",
    "# Copied from chatgpt\n",
    "import numpy as np\n",
    "import cv2"
   ]
  },
  {
   "cell_type": "code",
   "execution_count": 19,
   "metadata": {},
   "outputs": [],
   "source": [
    "def predict_something():\n",
    "    # Mouse callback function\n",
    "    global canvas\n",
    "    canvas = np.zeros((280, 280), dtype=np.uint8)\n",
    "    # Create a window and bind the function\n",
    "    cv2.namedWindow(\"Draw (Press 's' to save)\")\n",
    "    cv2.setMouseCallback(\"Draw (Press 's' to save)\", draw)\n",
    "\n",
    "    while True:\n",
    "        cv2.imshow(\"Draw (Press 's' to save)\", canvas)\n",
    "        key = cv2.waitKey(1) & 0xFF\n",
    "        if key == ord('s'):  # Press 's' to save\n",
    "            break\n",
    "\n",
    "    cv2.destroyAllWindows()\n",
    "\n",
    "    # Resize to 28x28 and normalize\n",
    "    digit = cv2.resize(canvas, (28, 28), interpolation=cv2.INTER_AREA)\n",
    "    digit = digit / 255.0  # Normalize (0 to 1)\n",
    "\n",
    "    # Convert to NumPy array\n",
    "    digit_array = np.array(digit)\n",
    "\n",
    "\n",
    "    print('\\n\\n\\n\\n')\n",
    "    # print(f'digitarray shape {digit_array.shape} xtrain shape: {x_train[0].shape}')\n",
    "    print(np.argmax(model.predict(np.array([digit_array])), axis=1))\n",
    "\n"
   ]
  },
  {
   "cell_type": "code",
   "execution_count": 3,
   "metadata": {},
   "outputs": [],
   "source": [
    "def draw(event, x, y, flags, param):\n",
    "        global drawing\n",
    "        if event == cv2.EVENT_LBUTTONDOWN:\n",
    "            drawing = True\n",
    "        elif event == cv2.EVENT_MOUSEMOVE:\n",
    "            if drawing:\n",
    "                cv2.circle(canvas, (x, y), 10, (255, 255, 255), -1)  # Draw white\n",
    "        elif event == cv2.EVENT_LBUTTONUP:\n",
    "            drawing = False\n"
   ]
  },
  {
   "cell_type": "code",
   "execution_count": 6,
   "metadata": {},
   "outputs": [],
   "source": [
    "\n",
    "canvas = np.zeros((280, 280), dtype=np.uint8)  # Scaled up 10x for better drawing\n",
    "drawing = False  # True when mouse is pressed\n"
   ]
  },
  {
   "cell_type": "code",
   "execution_count": 20,
   "metadata": {},
   "outputs": [
    {
     "name": "stdout",
     "output_type": "stream",
     "text": [
      "\n",
      "\n",
      "\n",
      "\n",
      "\n",
      "\u001b[1m1/1\u001b[0m \u001b[32m━━━━━━━━━━━━━━━━━━━━\u001b[0m\u001b[37m\u001b[0m \u001b[1m0s\u001b[0m 31ms/step\n",
      "[8]\n"
     ]
    }
   ],
   "source": [
    "predict_something()"
   ]
  },
  {
   "cell_type": "code",
   "execution_count": null,
   "metadata": {},
   "outputs": [],
   "source": []
  }
 ],
 "metadata": {
  "kernelspec": {
   "display_name": "perception",
   "language": "python",
   "name": "python3"
  },
  "language_info": {
   "codemirror_mode": {
    "name": "ipython",
    "version": 3
   },
   "file_extension": ".py",
   "mimetype": "text/x-python",
   "name": "python",
   "nbconvert_exporter": "python",
   "pygments_lexer": "ipython3",
   "version": "3.10.16"
  }
 },
 "nbformat": 4,
 "nbformat_minor": 2
}
